{
  "nbformat": 4,
  "nbformat_minor": 0,
  "metadata": {
    "colab": {
      "name": "TensorFlow1.ipynb",
      "provenance": [],
      "collapsed_sections": [],
      "authorship_tag": "ABX9TyODyDKshbpVZfswBrJMg3Qp",
      "include_colab_link": true
    },
    "kernelspec": {
      "name": "python3",
      "display_name": "Python 3"
    }
  },
  "cells": [
    {
      "cell_type": "markdown",
      "metadata": {
        "id": "view-in-github",
        "colab_type": "text"
      },
      "source": [
        "<a href=\"https://colab.research.google.com/github/srahul101082/Capstone_ImageProcessing/blob/master/TensorFlow1.ipynb\" target=\"_parent\"><img src=\"https://colab.research.google.com/assets/colab-badge.svg\" alt=\"Open In Colab\"/></a>"
      ]
    },
    {
      "cell_type": "code",
      "metadata": {
        "id": "QNGXDaNNWZjH",
        "colab_type": "code",
        "colab": {
          "base_uri": "https://localhost:8080/",
          "height": 34
        },
        "outputId": "5c7c2b9f-3aa5-4cf6-f54f-d357a076813d"
      },
      "source": [
        "import numpy as np\n",
        "import tensorflow as tf\n",
        "import matplotlib.pyplot as plt\n",
        "\n",
        "print(tf.__version__)\n"
      ],
      "execution_count": 5,
      "outputs": [
        {
          "output_type": "stream",
          "text": [
            "2.3.0\n"
          ],
          "name": "stdout"
        }
      ]
    },
    {
      "cell_type": "code",
      "metadata": {
        "id": "TBwRp_yWXG3D",
        "colab_type": "code",
        "colab": {}
      },
      "source": [
        "np.random.seed(42)\n",
        "tf.random.set_seed(42)"
      ],
      "execution_count": 15,
      "outputs": []
    },
    {
      "cell_type": "code",
      "metadata": {
        "id": "10Dq0EbMXRZP",
        "colab_type": "code",
        "colab": {}
      },
      "source": [
        "n=100\n",
        "X=np.linspace(0,50,n)\n",
        "y=np.linspace(0,50,n)\n",
        "\n",
        "X+=np.random.uniform(-10,10,n)\n",
        "y+=np.random.uniform(-10,10,n)"
      ],
      "execution_count": 16,
      "outputs": []
    },
    {
      "cell_type": "code",
      "metadata": {
        "id": "pwUy_0fCYZ-M",
        "colab_type": "code",
        "colab": {
          "base_uri": "https://localhost:8080/",
          "height": 294
        },
        "outputId": "01898d5d-f206-4160-cab0-2eeeed2d9f5c"
      },
      "source": [
        "plt.scatter(X,y)\n",
        "plt.xlabel('X')\n",
        "plt.ylabel('y')\n",
        "plt.title('Training Data')\n",
        "plt.show()"
      ],
      "execution_count": 17,
      "outputs": [
        {
          "output_type": "display_data",
          "data": {
            "image/png": "[encoded data removed]",
            "text/plain": [
              "<Figure size 432x288 with 1 Axes>"
            ]
          },
          "metadata": {
            "tags": [],
            "needs_background": "light"
          }
        }
      ]
    },
    {
      "cell_type": "code",
      "metadata": {
        "id": "H9fSplgmZHBG",
        "colab_type": "code",
        "colab": {}
      },
      "source": [
        "class LinearModel:\n",
        "    def __init__(self):\n",
        "        # y_pred = W*X + b\n",
        "        self.W = tf.Variable(13.0)\n",
        "        self.b = tf.Variable(4.0)\n",
        "    \n",
        "    def loss(self, y, y_pred):\n",
        "        return tf.reduce_mean(tf.square(y - y_pred))\n",
        "    \n",
        "    def train(self, X, y, lr=0.0001, epochs=20, verbose=True):\n",
        "        def train_step():\n",
        "            with tf.GradientTape() as t:\n",
        "                current_loss = self.loss(y, self.predict(X))\n",
        "\n",
        "            dW, db = t.gradient(current_loss, [self.W, self.b])\n",
        "            self.W.assign_sub(lr * dW) # W -= lr * dW\n",
        "            self.b.assign_sub(lr * db)\n",
        "            \n",
        "            return current_loss\n",
        "        \n",
        "        for epoch in range(epochs):\n",
        "            current_loss = train_step()\n",
        "            if verbose:\n",
        "                print(f'Epoch {epoch}: Loss: {current_loss.numpy()}') # <3 eager execution\n",
        "                \n",
        "    def predict(self, X):\n",
        "        return self.W * X + self.b"
      ],
      "execution_count": 45,
      "outputs": []
    },
    {
      "cell_type": "code",
      "metadata": {
        "id": "V6HQYU4tjDML",
        "colab_type": "code",
        "colab": {
          "base_uri": "https://localhost:8080/",
          "height": 1000
        },
        "outputId": "362cd099-f9a7-4bf9-e0a3-681699afbf3b"
      },
      "source": [
        "model = LinearModel()\n",
        "model.train(X,y, epochs=50)\n",
        "plt.scatter(X, y, label='data')\n",
        "plt.plot(X, model.predict(X),'r-',label='predicted')\n",
        "plt.legend()"
      ],
      "execution_count": 46,
      "outputs": [
        {
          "output_type": "stream",
          "text": [
            "Epoch 0: Loss: 124765.109375\n",
            "Epoch 1: Loss: 86082.9765625\n",
            "Epoch 2: Loss: 59400.33984375\n",
            "Epoch 3: Loss: 40994.8515625\n",
            "Epoch 4: Loss: 28298.88671875\n",
            "Epoch 5: Loss: 19541.3046875\n",
            "Epoch 6: Loss: 13500.388671875\n",
            "Epoch 7: Loss: 9333.412109375\n",
            "Epoch 8: Loss: 6459.06103515625\n",
            "Epoch 9: Loss: 4476.35595703125\n",
            "Epoch 10: Loss: 3108.700927734375\n",
            "Epoch 11: Loss: 2165.302978515625\n",
            "Epoch 12: Loss: 1514.5535888671875\n",
            "Epoch 13: Loss: 1065.671875\n",
            "Epoch 14: Loss: 756.0365600585938\n",
            "Epoch 15: Loss: 542.452392578125\n",
            "Epoch 16: Loss: 395.1237487792969\n",
            "Epoch 17: Loss: 293.4975280761719\n",
            "Epoch 18: Loss: 223.3964080810547\n",
            "Epoch 19: Loss: 175.0412139892578\n",
            "Epoch 20: Loss: 141.6861572265625\n",
            "Epoch 21: Loss: 118.67814636230469\n",
            "Epoch 22: Loss: 102.80734252929688\n",
            "Epoch 23: Loss: 91.85980224609375\n",
            "Epoch 24: Loss: 84.3082504272461\n",
            "Epoch 25: Loss: 79.0992660522461\n",
            "Epoch 26: Loss: 75.50613403320312\n",
            "Epoch 27: Loss: 73.02762603759766\n",
            "Epoch 28: Loss: 71.31796264648438\n",
            "Epoch 29: Loss: 70.13866424560547\n",
            "Epoch 30: Loss: 69.3251724243164\n",
            "Epoch 31: Loss: 68.76404571533203\n",
            "Epoch 32: Loss: 68.37698364257812\n",
            "Epoch 33: Loss: 68.10999298095703\n",
            "Epoch 34: Loss: 67.92581176757812\n",
            "Epoch 35: Loss: 67.79878234863281\n",
            "Epoch 36: Loss: 67.71114349365234\n",
            "Epoch 37: Loss: 67.65069580078125\n",
            "Epoch 38: Loss: 67.60900115966797\n",
            "Epoch 39: Loss: 67.58024597167969\n",
            "Epoch 40: Loss: 67.5604019165039\n",
            "Epoch 41: Loss: 67.54671478271484\n",
            "Epoch 42: Loss: 67.53726959228516\n",
            "Epoch 43: Loss: 67.53075408935547\n",
            "Epoch 44: Loss: 67.52627563476562\n",
            "Epoch 45: Loss: 67.5231704711914\n",
            "Epoch 46: Loss: 67.52102661132812\n",
            "Epoch 47: Loss: 67.51956176757812\n",
            "Epoch 48: Loss: 67.51854705810547\n",
            "Epoch 49: Loss: 67.5178451538086\n"
          ],
          "name": "stdout"
        },
        {
          "output_type": "execute_result",
          "data": {
            "text/plain": [
              "<matplotlib.legend.Legend at 0x7f7896c5d470>"
            ]
          },
          "metadata": {
            "tags": []
          },
          "execution_count": 46
        },
        {
          "output_type": "display_data",
          "data": {
            "image/png": "[encoded data removed]",
            "text/plain": [
              "<Figure size 432x288 with 1 Axes>"
            ]
          },
          "metadata": {
            "tags": [],
            "needs_background": "light"
          }
        }
      ]
    }
  ]
}