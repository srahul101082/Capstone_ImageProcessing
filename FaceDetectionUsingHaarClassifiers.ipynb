{
  "nbformat": 4,
  "nbformat_minor": 0,
  "metadata": {
    "colab": {
      "name": "FaceDetectionUsingHaarClassifiers.ipynb",
      "version": "0.3.2",
      "provenance": [],
      "private_outputs": true,
      "collapsed_sections": [],
      "include_colab_link": true
    },
    "kernelspec": {
      "name": "python3",
      "display_name": "Python 3"
    },
    "accelerator": "GPU"
  },
  "cells": [
    {
      "cell_type": "markdown",
      "metadata": {
        "id": "view-in-github",
        "colab_type": "text"
      },
      "source": [
        "<a href=\"https://colab.research.google.com/github/srahul101082/Capstone_ImageProcessing/blob/master/FaceDetectionUsingHaarClassifiers.ipynb\" target=\"_parent\"><img src=\"https://colab.research.google.com/assets/colab-badge.svg\" alt=\"Open In Colab\"/></a>"
      ]
    },
    {
      "metadata": {
        "id": "Rm2Cf5YjQbOI",
        "colab_type": "code",
        "colab": {}
      },
      "cell_type": "code",
      "source": [
        "import numpy as np\n",
        "import cv2\n",
        "import matplotlib.pyplot as plt\n",
        "%matplotlib inline"
      ],
      "execution_count": 0,
      "outputs": []
    },
    {
      "metadata": {
        "id": "VshTDmZLUgj3",
        "colab_type": "code",
        "colab": {}
      },
      "cell_type": "code",
      "source": [
        "#!ls\n",
        "single_img_raw=cv2.imread('IMG_20190209_153417.jpg')"
      ],
      "execution_count": 0,
      "outputs": []
    },
    {
      "metadata": {
        "id": "l8rMoNjPVMV1",
        "colab_type": "code",
        "colab": {}
      },
      "cell_type": "code",
      "source": [
        "type(single_img_raw)\n",
        "single_img_raw.shape"
      ],
      "execution_count": 0,
      "outputs": []
    },
    {
      "metadata": {
        "id": "dI7xU-d6VdEU",
        "colab_type": "code",
        "colab": {}
      },
      "cell_type": "code",
      "source": [
        "plt.imshow(single_img_raw)"
      ],
      "execution_count": 0,
      "outputs": []
    },
    {
      "metadata": {
        "id": "i0EGnfopadal",
        "colab_type": "code",
        "colab": {}
      },
      "cell_type": "code",
      "source": [
        "def convertImageToRGB(image):\n",
        "  return cv2.cvtColor(image, cv2.COLOR_BGR2RGB)"
      ],
      "execution_count": 0,
      "outputs": []
    },
    {
      "metadata": {
        "id": "bDCZs9o9bDz1",
        "colab_type": "code",
        "colab": {}
      },
      "cell_type": "code",
      "source": [
        "plt.imshow(convertImageToRGB(single_img_raw))\n",
        "\n",
        "#Converting to grayscale\n",
        "test_image = cv2.cvtColor(single_img_raw, cv2.COLOR_BGR2GRAY)"
      ],
      "execution_count": 0,
      "outputs": []
    },
    {
      "metadata": {
        "id": "QC2IWsUubnAR",
        "colab_type": "code",
        "colab": {}
      },
      "cell_type": "code",
      "source": [
        "haar_cascade_classifier=cv2.CascadeClassifier('haarcascade_frontalface_default.xml')\n",
        "faces_rects=haar_cascade_classifier.detectMultiScale(test_image, scaleFactor=1.2 ,minNeighbors=5)"
      ],
      "execution_count": 0,
      "outputs": []
    },
    {
      "metadata": {
        "id": "v1fvkM-vfjh_",
        "colab_type": "code",
        "colab": {}
      },
      "cell_type": "code",
      "source": [
        "print('Faces found: ', len(faces_rects))"
      ],
      "execution_count": 0,
      "outputs": []
    },
    {
      "metadata": {
        "id": "yqSUqIjegNl_",
        "colab_type": "code",
        "colab": {}
      },
      "cell_type": "code",
      "source": [
        "for (x,y,w,h) in faces_rects:\n",
        "  cv2.rectangle(test_image, (x,y), (x+w,y+h),(255,0,0))"
      ],
      "execution_count": 0,
      "outputs": []
    },
    {
      "metadata": {
        "id": "WGPUfvkUg3TN",
        "colab_type": "code",
        "colab": {}
      },
      "cell_type": "code",
      "source": [
        "plt.imshow(convertImageToRGB(single_img_raw))"
      ],
      "execution_count": 0,
      "outputs": []
    },
    {
      "metadata": {
        "id": "IFny4CoChNx7",
        "colab_type": "code",
        "colab": {}
      },
      "cell_type": "code",
      "source": [
        "def detect_faces(cascade, test_image, scaleFactor = 1.1):\n",
        "    # create a copy of the image to prevent any changes to the original one.\n",
        "    image_copy = test_image.copy()\n",
        "\n",
        "    #convert the test image to gray scale as opencv face detector expects gray images\n",
        "    gray_image = cv2.cvtColor(image_copy, cv2.COLOR_BGR2GRAY)\n",
        "\n",
        "    # Applying the haar classifier to detect faces\n",
        "    faces_rect = cascade.detectMultiScale(gray_image, scaleFactor=scaleFactor, minNeighbors=5)\n",
        "\n",
        "    for (x, y, w, h) in faces_rect:\n",
        "        cv2.rectangle(image_copy, (x, y), (x+w, y+h), (255, 0, 0), 15)\n",
        "\n",
        "    return image_copy"
      ],
      "execution_count": 0,
      "outputs": []
    },
    {
      "metadata": {
        "id": "PJbH3BGkjSIj",
        "colab_type": "code",
        "colab": {}
      },
      "cell_type": "code",
      "source": [
        " #loading image\n",
        "  test_image2 = cv2.imread('gunnu.jpg')\n",
        "\n",
        "  # Converting to grayscale\n",
        "  test_image_gray = cv2.cvtColor(test_image2, cv2.COLOR_BGR2GRAY)\n",
        "\n",
        "  # Displaying grayscale image\n",
        "  plt.imshow(test_image_gray, cmap='gray')"
      ],
      "execution_count": 0,
      "outputs": []
    },
    {
      "metadata": {
        "id": "-1SxsdsAk8Cb",
        "colab_type": "code",
        "colab": {}
      },
      "cell_type": "code",
      "source": [
        "#call the function to detect faces\n",
        "faces = detect_faces(haar_cascade_classifier, test_image2)\n",
        "\n",
        "#convert to RGB and display image\n",
        "plt.imshow(convertImageToRGB(faces))"
      ],
      "execution_count": 0,
      "outputs": []
    },
    {
      "metadata": {
        "id": "rPJ_hlVylRpz",
        "colab_type": "code",
        "colab": {}
      },
      "cell_type": "code",
      "source": [
        " #loading image\n",
        "  group_image = cv2.imread('family.jpg')\n",
        "\n",
        "  # Converting to grayscale\n",
        "  group_image_gray = cv2.cvtColor(group_image, cv2.COLOR_BGR2GRAY)\n",
        "\n",
        "  # Displaying grayscale image\n",
        "  plt.imshow(group_image_gray, cmap='gray')"
      ],
      "execution_count": 0,
      "outputs": []
    },
    {
      "metadata": {
        "id": "5WWizi71sTcM",
        "colab_type": "code",
        "colab": {}
      },
      "cell_type": "code",
      "source": [
        "#call the function to detect faces\n",
        "faces = detect_faces(haar_cascade_classifier, group_image)\n",
        "\n",
        "#convert to RGB and display image\n",
        "plt.imshow(convertImageToRGB(faces))"
      ],
      "execution_count": 0,
      "outputs": []
    },
    {
      "metadata": {
        "id": "776319-VsjvL",
        "colab_type": "code",
        "colab": {}
      },
      "cell_type": "code",
      "source": [
        ""
      ],
      "execution_count": 0,
      "outputs": []
    }
  ]
}